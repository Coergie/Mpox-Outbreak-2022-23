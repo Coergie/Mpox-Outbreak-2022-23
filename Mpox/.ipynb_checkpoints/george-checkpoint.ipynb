{
 "cells": [
  {
   "cell_type": "code",
   "execution_count": 1,
   "id": "2a996eaa",
   "metadata": {},
   "outputs": [],
   "source": [
    "import pandas as pd\n",
    "pd.set_option('display.max_rows', 100)"
   ]
  },
  {
   "cell_type": "code",
   "execution_count": 2,
   "id": "629d0db9",
   "metadata": {},
   "outputs": [],
   "source": [
    "df = pd.read_csv('df_messed_dates.csv')"
   ]
  },
  {
   "cell_type": "code",
   "execution_count": 3,
   "id": "a925d0e2",
   "metadata": {},
   "outputs": [
    {
     "data": {
      "text/html": [
       "<div>\n",
       "<style scoped>\n",
       "    .dataframe tbody tr th:only-of-type {\n",
       "        vertical-align: middle;\n",
       "    }\n",
       "\n",
       "    .dataframe tbody tr th {\n",
       "        vertical-align: top;\n",
       "    }\n",
       "\n",
       "    .dataframe thead th {\n",
       "        text-align: right;\n",
       "    }\n",
       "</style>\n",
       "<table border=\"1\" class=\"dataframe\">\n",
       "  <thead>\n",
       "    <tr style=\"text-align: right;\">\n",
       "      <th></th>\n",
       "      <th>country</th>\n",
       "      <th>iso3</th>\n",
       "      <th>who_region</th>\n",
       "      <th>date</th>\n",
       "      <th>total_confirmed_cases</th>\n",
       "      <th>total_probable_cases</th>\n",
       "      <th>total_deaths</th>\n",
       "      <th>new_confirmed_cases</th>\n",
       "      <th>new_probable_cases</th>\n",
       "      <th>new_deaths</th>\n",
       "      <th>total_cases</th>\n",
       "      <th>daily_new_confirmed_cases</th>\n",
       "    </tr>\n",
       "  </thead>\n",
       "  <tbody>\n",
       "    <tr>\n",
       "      <th>0</th>\n",
       "      <td>Benin</td>\n",
       "      <td>BEN</td>\n",
       "      <td>African Region</td>\n",
       "      <td>2022-06-24</td>\n",
       "      <td>3</td>\n",
       "      <td>0</td>\n",
       "      <td>0</td>\n",
       "      <td>3</td>\n",
       "      <td>0</td>\n",
       "      <td>0</td>\n",
       "      <td>3</td>\n",
       "      <td>NaN</td>\n",
       "    </tr>\n",
       "    <tr>\n",
       "      <th>1</th>\n",
       "      <td>Benin</td>\n",
       "      <td>BEN</td>\n",
       "      <td>African Region</td>\n",
       "      <td>2022-07-01</td>\n",
       "      <td>3</td>\n",
       "      <td>0</td>\n",
       "      <td>0</td>\n",
       "      <td>0</td>\n",
       "      <td>0</td>\n",
       "      <td>0</td>\n",
       "      <td>6</td>\n",
       "      <td>-3.0</td>\n",
       "    </tr>\n",
       "    <tr>\n",
       "      <th>2</th>\n",
       "      <td>Benin</td>\n",
       "      <td>BEN</td>\n",
       "      <td>African Region</td>\n",
       "      <td>2022-07-08</td>\n",
       "      <td>3</td>\n",
       "      <td>0</td>\n",
       "      <td>0</td>\n",
       "      <td>0</td>\n",
       "      <td>0</td>\n",
       "      <td>0</td>\n",
       "      <td>9</td>\n",
       "      <td>0.0</td>\n",
       "    </tr>\n",
       "    <tr>\n",
       "      <th>3</th>\n",
       "      <td>Benin</td>\n",
       "      <td>BEN</td>\n",
       "      <td>African Region</td>\n",
       "      <td>2022-07-15</td>\n",
       "      <td>3</td>\n",
       "      <td>0</td>\n",
       "      <td>0</td>\n",
       "      <td>0</td>\n",
       "      <td>0</td>\n",
       "      <td>0</td>\n",
       "      <td>12</td>\n",
       "      <td>0.0</td>\n",
       "    </tr>\n",
       "    <tr>\n",
       "      <th>4</th>\n",
       "      <td>Benin</td>\n",
       "      <td>BEN</td>\n",
       "      <td>African Region</td>\n",
       "      <td>2022-07-22</td>\n",
       "      <td>3</td>\n",
       "      <td>0</td>\n",
       "      <td>0</td>\n",
       "      <td>0</td>\n",
       "      <td>0</td>\n",
       "      <td>0</td>\n",
       "      <td>15</td>\n",
       "      <td>0.0</td>\n",
       "    </tr>\n",
       "  </tbody>\n",
       "</table>\n",
       "</div>"
      ],
      "text/plain": [
       "  country iso3      who_region        date  total_confirmed_cases  \\\n",
       "0   Benin  BEN  African Region  2022-06-24                      3   \n",
       "1   Benin  BEN  African Region  2022-07-01                      3   \n",
       "2   Benin  BEN  African Region  2022-07-08                      3   \n",
       "3   Benin  BEN  African Region  2022-07-15                      3   \n",
       "4   Benin  BEN  African Region  2022-07-22                      3   \n",
       "\n",
       "   total_probable_cases  total_deaths  new_confirmed_cases  \\\n",
       "0                     0             0                    3   \n",
       "1                     0             0                    0   \n",
       "2                     0             0                    0   \n",
       "3                     0             0                    0   \n",
       "4                     0             0                    0   \n",
       "\n",
       "   new_probable_cases  new_deaths  total_cases  daily_new_confirmed_cases  \n",
       "0                   0           0            3                        NaN  \n",
       "1                   0           0            6                       -3.0  \n",
       "2                   0           0            9                        0.0  \n",
       "3                   0           0           12                        0.0  \n",
       "4                   0           0           15                        0.0  "
      ]
     },
     "execution_count": 3,
     "metadata": {},
     "output_type": "execute_result"
    }
   ],
   "source": [
    "df.head()"
   ]
  },
  {
   "cell_type": "code",
   "execution_count": 4,
   "id": "57cb4cfd",
   "metadata": {},
   "outputs": [
    {
     "data": {
      "text/html": [
       "<div>\n",
       "<style scoped>\n",
       "    .dataframe tbody tr th:only-of-type {\n",
       "        vertical-align: middle;\n",
       "    }\n",
       "\n",
       "    .dataframe tbody tr th {\n",
       "        vertical-align: top;\n",
       "    }\n",
       "\n",
       "    .dataframe thead th {\n",
       "        text-align: right;\n",
       "    }\n",
       "</style>\n",
       "<table border=\"1\" class=\"dataframe\">\n",
       "  <thead>\n",
       "    <tr style=\"text-align: right;\">\n",
       "      <th></th>\n",
       "      <th>country</th>\n",
       "      <th>iso3</th>\n",
       "      <th>who_region</th>\n",
       "    </tr>\n",
       "  </thead>\n",
       "  <tbody>\n",
       "    <tr>\n",
       "      <th>0</th>\n",
       "      <td>Andorra</td>\n",
       "      <td>AND</td>\n",
       "      <td>European Region</td>\n",
       "    </tr>\n",
       "    <tr>\n",
       "      <th>1</th>\n",
       "      <td>Argentina</td>\n",
       "      <td>ARG</td>\n",
       "      <td>Region of the Americas</td>\n",
       "    </tr>\n",
       "    <tr>\n",
       "      <th>2</th>\n",
       "      <td>Aruba</td>\n",
       "      <td>ABW</td>\n",
       "      <td>Region of the Americas</td>\n",
       "    </tr>\n",
       "    <tr>\n",
       "      <th>3</th>\n",
       "      <td>Australia</td>\n",
       "      <td>AUS</td>\n",
       "      <td>Western Pacific Region</td>\n",
       "    </tr>\n",
       "    <tr>\n",
       "      <th>4</th>\n",
       "      <td>Austria</td>\n",
       "      <td>AUT</td>\n",
       "      <td>European Region</td>\n",
       "    </tr>\n",
       "    <tr>\n",
       "      <th>...</th>\n",
       "      <td>...</td>\n",
       "      <td>...</td>\n",
       "      <td>...</td>\n",
       "    </tr>\n",
       "    <tr>\n",
       "      <th>108</th>\n",
       "      <td>United Arab Emirates</td>\n",
       "      <td>ARE</td>\n",
       "      <td>Eastern Mediterranean Region</td>\n",
       "    </tr>\n",
       "    <tr>\n",
       "      <th>109</th>\n",
       "      <td>United States of America</td>\n",
       "      <td>USA</td>\n",
       "      <td>Region of the Americas</td>\n",
       "    </tr>\n",
       "    <tr>\n",
       "      <th>110</th>\n",
       "      <td>Uruguay</td>\n",
       "      <td>URY</td>\n",
       "      <td>Region of the Americas</td>\n",
       "    </tr>\n",
       "    <tr>\n",
       "      <th>111</th>\n",
       "      <td>Venezuela (Bolivarian Republic of)</td>\n",
       "      <td>VEN</td>\n",
       "      <td>Region of the Americas</td>\n",
       "    </tr>\n",
       "    <tr>\n",
       "      <th>112</th>\n",
       "      <td>Viet Nam</td>\n",
       "      <td>VNM</td>\n",
       "      <td>Western Pacific Region</td>\n",
       "    </tr>\n",
       "  </tbody>\n",
       "</table>\n",
       "<p>113 rows × 3 columns</p>\n",
       "</div>"
      ],
      "text/plain": [
       "                                country iso3                    who_region\n",
       "0                               Andorra  AND               European Region\n",
       "1                             Argentina  ARG        Region of the Americas\n",
       "2                                 Aruba  ABW        Region of the Americas\n",
       "3                             Australia  AUS        Western Pacific Region\n",
       "4                               Austria  AUT               European Region\n",
       "..                                  ...  ...                           ...\n",
       "108                United Arab Emirates  ARE  Eastern Mediterranean Region\n",
       "109            United States of America  USA        Region of the Americas\n",
       "110                             Uruguay  URY        Region of the Americas\n",
       "111  Venezuela (Bolivarian Republic of)  VEN        Region of the Americas\n",
       "112                            Viet Nam  VNM        Western Pacific Region\n",
       "\n",
       "[113 rows x 3 columns]"
      ]
     },
     "execution_count": 4,
     "metadata": {},
     "output_type": "execute_result"
    }
   ],
   "source": [
    "mappings = list(df.groupby(['country', 'iso3', 'who_region']).groups.keys())\n",
    "mappings = pd.DataFrame(mappings, columns=['country', 'iso3', 'who_region'])\n",
    "mappings"
   ]
  },
  {
   "cell_type": "code",
   "execution_count": 5,
   "id": "fcb38ae8",
   "metadata": {},
   "outputs": [],
   "source": [
    "dates = list(df['date'].unique())\n",
    "iso3 = list(df['iso3'].unique())"
   ]
  },
  {
   "cell_type": "code",
   "execution_count": 6,
   "id": "6205f4a3",
   "metadata": {},
   "outputs": [],
   "source": [
    "dates.sort()"
   ]
  },
  {
   "cell_type": "code",
   "execution_count": null,
   "id": "e3fff72e",
   "metadata": {},
   "outputs": [],
   "source": []
  },
  {
   "cell_type": "code",
   "execution_count": 8,
   "id": "bf6c69fc",
   "metadata": {},
   "outputs": [],
   "source": [
    "df.set_index([\"date\", 'iso3'], inplace=True)"
   ]
  },
  {
   "cell_type": "code",
   "execution_count": 9,
   "id": "f68f1fbe",
   "metadata": {},
   "outputs": [],
   "source": [
    "new_index = pd.MultiIndex.from_product(df.index.levels)"
   ]
  },
  {
   "cell_type": "code",
   "execution_count": 10,
   "id": "1230550a",
   "metadata": {
    "scrolled": true
   },
   "outputs": [
    {
     "data": {
      "text/plain": [
       "MultiIndex([('2022-01-07', 'ABW'),\n",
       "            ('2022-01-07', 'AND'),\n",
       "            ('2022-01-07', 'ARE'),\n",
       "            ('2022-01-07', 'ARG'),\n",
       "            ('2022-01-07', 'AUS'),\n",
       "            ('2022-01-07', 'AUT'),\n",
       "            ('2022-01-07', 'BEL'),\n",
       "            ('2022-01-07', 'BEN'),\n",
       "            ('2022-01-07', 'BGR'),\n",
       "            ('2022-01-07', 'BHR'),\n",
       "            ...\n",
       "            ('2023-07-18', 'SWE'),\n",
       "            ('2023-07-18', 'THA'),\n",
       "            ('2023-07-18', 'TTO'),\n",
       "            ('2023-07-18', 'TUR'),\n",
       "            ('2023-07-18', 'UKR'),\n",
       "            ('2023-07-18', 'URY'),\n",
       "            ('2023-07-18', 'USA'),\n",
       "            ('2023-07-18', 'VEN'),\n",
       "            ('2023-07-18', 'VNM'),\n",
       "            ('2023-07-18', 'ZAF')],\n",
       "           names=['date', 'iso3'], length=37290)"
      ]
     },
     "execution_count": 10,
     "metadata": {},
     "output_type": "execute_result"
    }
   ],
   "source": [
    "new_index"
   ]
  },
  {
   "cell_type": "code",
   "execution_count": 11,
   "id": "1be010e8",
   "metadata": {},
   "outputs": [],
   "source": [
    "new_df = df.reindex(new_index)\n"
   ]
  },
  {
   "cell_type": "code",
   "execution_count": null,
   "id": "7c546ad2",
   "metadata": {},
   "outputs": [],
   "source": []
  },
  {
   "cell_type": "code",
   "execution_count": 12,
   "id": "94f90aeb",
   "metadata": {},
   "outputs": [],
   "source": [
    "\n",
    "#new_df = new_df.fillna(0)"
   ]
  },
  {
   "cell_type": "code",
   "execution_count": 13,
   "id": "8927028d",
   "metadata": {},
   "outputs": [],
   "source": [
    "new_df.reset_index(inplace=True)"
   ]
  },
  {
   "cell_type": "code",
   "execution_count": 18,
   "id": "85d4de3b",
   "metadata": {},
   "outputs": [
    {
     "data": {
      "text/html": [
       "<div>\n",
       "<style scoped>\n",
       "    .dataframe tbody tr th:only-of-type {\n",
       "        vertical-align: middle;\n",
       "    }\n",
       "\n",
       "    .dataframe tbody tr th {\n",
       "        vertical-align: top;\n",
       "    }\n",
       "\n",
       "    .dataframe thead th {\n",
       "        text-align: right;\n",
       "    }\n",
       "</style>\n",
       "<table border=\"1\" class=\"dataframe\">\n",
       "  <thead>\n",
       "    <tr style=\"text-align: right;\">\n",
       "      <th></th>\n",
       "      <th>country</th>\n",
       "      <th>iso3</th>\n",
       "      <th>who_region</th>\n",
       "    </tr>\n",
       "  </thead>\n",
       "  <tbody>\n",
       "    <tr>\n",
       "      <th>0</th>\n",
       "      <td>Andorra</td>\n",
       "      <td>AND</td>\n",
       "      <td>European Region</td>\n",
       "    </tr>\n",
       "    <tr>\n",
       "      <th>1</th>\n",
       "      <td>Argentina</td>\n",
       "      <td>ARG</td>\n",
       "      <td>Region of the Americas</td>\n",
       "    </tr>\n",
       "    <tr>\n",
       "      <th>2</th>\n",
       "      <td>Aruba</td>\n",
       "      <td>ABW</td>\n",
       "      <td>Region of the Americas</td>\n",
       "    </tr>\n",
       "    <tr>\n",
       "      <th>3</th>\n",
       "      <td>Australia</td>\n",
       "      <td>AUS</td>\n",
       "      <td>Western Pacific Region</td>\n",
       "    </tr>\n",
       "    <tr>\n",
       "      <th>4</th>\n",
       "      <td>Austria</td>\n",
       "      <td>AUT</td>\n",
       "      <td>European Region</td>\n",
       "    </tr>\n",
       "    <tr>\n",
       "      <th>...</th>\n",
       "      <td>...</td>\n",
       "      <td>...</td>\n",
       "      <td>...</td>\n",
       "    </tr>\n",
       "    <tr>\n",
       "      <th>108</th>\n",
       "      <td>United Arab Emirates</td>\n",
       "      <td>ARE</td>\n",
       "      <td>Eastern Mediterranean Region</td>\n",
       "    </tr>\n",
       "    <tr>\n",
       "      <th>109</th>\n",
       "      <td>United States of America</td>\n",
       "      <td>USA</td>\n",
       "      <td>Region of the Americas</td>\n",
       "    </tr>\n",
       "    <tr>\n",
       "      <th>110</th>\n",
       "      <td>Uruguay</td>\n",
       "      <td>URY</td>\n",
       "      <td>Region of the Americas</td>\n",
       "    </tr>\n",
       "    <tr>\n",
       "      <th>111</th>\n",
       "      <td>Venezuela (Bolivarian Republic of)</td>\n",
       "      <td>VEN</td>\n",
       "      <td>Region of the Americas</td>\n",
       "    </tr>\n",
       "    <tr>\n",
       "      <th>112</th>\n",
       "      <td>Viet Nam</td>\n",
       "      <td>VNM</td>\n",
       "      <td>Western Pacific Region</td>\n",
       "    </tr>\n",
       "  </tbody>\n",
       "</table>\n",
       "<p>113 rows × 3 columns</p>\n",
       "</div>"
      ],
      "text/plain": [
       "                                country iso3                    who_region\n",
       "0                               Andorra  AND               European Region\n",
       "1                             Argentina  ARG        Region of the Americas\n",
       "2                                 Aruba  ABW        Region of the Americas\n",
       "3                             Australia  AUS        Western Pacific Region\n",
       "4                               Austria  AUT               European Region\n",
       "..                                  ...  ...                           ...\n",
       "108                United Arab Emirates  ARE  Eastern Mediterranean Region\n",
       "109            United States of America  USA        Region of the Americas\n",
       "110                             Uruguay  URY        Region of the Americas\n",
       "111  Venezuela (Bolivarian Republic of)  VEN        Region of the Americas\n",
       "112                            Viet Nam  VNM        Western Pacific Region\n",
       "\n",
       "[113 rows x 3 columns]"
      ]
     },
     "execution_count": 18,
     "metadata": {},
     "output_type": "execute_result"
    }
   ],
   "source": [
    "mappings.loc[mappings['iso3']== new_df.loc[new_df['country'].isnull(),['iso3','country']].loc[:,'iso3']]"
   ]
  },
  {
   "cell_type": "code",
   "execution_count": 17,
   "id": "97885daa",
   "metadata": {},
   "outputs": [
    {
     "data": {
      "text/html": [
       "<div>\n",
       "<style scoped>\n",
       "    .dataframe tbody tr th:only-of-type {\n",
       "        vertical-align: middle;\n",
       "    }\n",
       "\n",
       "    .dataframe tbody tr th {\n",
       "        vertical-align: top;\n",
       "    }\n",
       "\n",
       "    .dataframe thead th {\n",
       "        text-align: right;\n",
       "    }\n",
       "</style>\n",
       "<table border=\"1\" class=\"dataframe\">\n",
       "  <thead>\n",
       "    <tr style=\"text-align: right;\">\n",
       "      <th></th>\n",
       "      <th>iso3</th>\n",
       "      <th>country</th>\n",
       "    </tr>\n",
       "  </thead>\n",
       "  <tbody>\n",
       "    <tr>\n",
       "      <th>0</th>\n",
       "      <td>ABW</td>\n",
       "      <td>NaN</td>\n",
       "    </tr>\n",
       "    <tr>\n",
       "      <th>1</th>\n",
       "      <td>AND</td>\n",
       "      <td>NaN</td>\n",
       "    </tr>\n",
       "    <tr>\n",
       "      <th>2</th>\n",
       "      <td>ARE</td>\n",
       "      <td>NaN</td>\n",
       "    </tr>\n",
       "    <tr>\n",
       "      <th>3</th>\n",
       "      <td>ARG</td>\n",
       "      <td>NaN</td>\n",
       "    </tr>\n",
       "    <tr>\n",
       "      <th>4</th>\n",
       "      <td>AUS</td>\n",
       "      <td>NaN</td>\n",
       "    </tr>\n",
       "    <tr>\n",
       "      <th>...</th>\n",
       "      <td>...</td>\n",
       "      <td>...</td>\n",
       "    </tr>\n",
       "    <tr>\n",
       "      <th>37285</th>\n",
       "      <td>URY</td>\n",
       "      <td>NaN</td>\n",
       "    </tr>\n",
       "    <tr>\n",
       "      <th>37286</th>\n",
       "      <td>USA</td>\n",
       "      <td>NaN</td>\n",
       "    </tr>\n",
       "    <tr>\n",
       "      <th>37287</th>\n",
       "      <td>VEN</td>\n",
       "      <td>NaN</td>\n",
       "    </tr>\n",
       "    <tr>\n",
       "      <th>37288</th>\n",
       "      <td>VNM</td>\n",
       "      <td>NaN</td>\n",
       "    </tr>\n",
       "    <tr>\n",
       "      <th>37289</th>\n",
       "      <td>ZAF</td>\n",
       "      <td>NaN</td>\n",
       "    </tr>\n",
       "  </tbody>\n",
       "</table>\n",
       "<p>28246 rows × 2 columns</p>\n",
       "</div>"
      ],
      "text/plain": [
       "      iso3 country\n",
       "0      ABW     NaN\n",
       "1      AND     NaN\n",
       "2      ARE     NaN\n",
       "3      ARG     NaN\n",
       "4      AUS     NaN\n",
       "...    ...     ...\n",
       "37285  URY     NaN\n",
       "37286  USA     NaN\n",
       "37287  VEN     NaN\n",
       "37288  VNM     NaN\n",
       "37289  ZAF     NaN\n",
       "\n",
       "[28246 rows x 2 columns]"
      ]
     },
     "execution_count": 17,
     "metadata": {},
     "output_type": "execute_result"
    }
   ],
   "source": [
    "new_df.loc[new_df['country'].isnull(),['iso3','country']].loc[:,'country'] ="
   ]
  },
  {
   "cell_type": "code",
   "execution_count": null,
   "id": "271eb53d",
   "metadata": {},
   "outputs": [],
   "source": [
    "new_df"
   ]
  },
  {
   "cell_type": "code",
   "execution_count": null,
   "id": "8212a624",
   "metadata": {},
   "outputs": [],
   "source": [
    "new_df.loc[new_df['date']=='2022-01-07'] = new_df.loc[new_df['date']=='2022-01-07'].fillna(0)"
   ]
  },
  {
   "cell_type": "code",
   "execution_count": null,
   "id": "5ce847c1",
   "metadata": {},
   "outputs": [],
   "source": [
    "new_df"
   ]
  },
  {
   "cell_type": "code",
   "execution_count": null,
   "id": "3d6f8db4",
   "metadata": {},
   "outputs": [],
   "source": [
    "new_df.sort_values(by=['date','country'])"
   ]
  },
  {
   "cell_type": "code",
   "execution_count": null,
   "id": "8b333fe6",
   "metadata": {},
   "outputs": [],
   "source": [
    "new_df.fillna()"
   ]
  },
  {
   "cell_type": "code",
   "execution_count": null,
   "id": "57aed86a",
   "metadata": {},
   "outputs": [],
   "source": [
    "new_df['country'] = new_df['iso3'].apply(lambda iso: mappings[mappings['iso3'] == iso].iloc[0]['country'])"
   ]
  },
  {
   "cell_type": "code",
   "execution_count": null,
   "id": "eebe8301",
   "metadata": {},
   "outputs": [],
   "source": [
    "new_df['who_region'] = new_df['iso3'].apply(lambda iso: mappings[mappings['iso3'] == iso].iloc[0]['who_region'])"
   ]
  },
  {
   "cell_type": "code",
   "execution_count": null,
   "id": "9f34bbc1",
   "metadata": {},
   "outputs": [],
   "source": [
    "new_df.head(100)"
   ]
  },
  {
   "cell_type": "code",
   "execution_count": null,
   "id": "9437beae",
   "metadata": {},
   "outputs": [],
   "source": [
    "new_df.to_csv('filled_data.csv', index=False)"
   ]
  },
  {
   "cell_type": "code",
   "execution_count": null,
   "id": "ae70bbd7",
   "metadata": {},
   "outputs": [],
   "source": []
  }
 ],
 "metadata": {
  "kernelspec": {
   "display_name": "Python 3 (ipykernel)",
   "language": "python",
   "name": "python3"
  },
  "language_info": {
   "codemirror_mode": {
    "name": "ipython",
    "version": 3
   },
   "file_extension": ".py",
   "mimetype": "text/x-python",
   "name": "python",
   "nbconvert_exporter": "python",
   "pygments_lexer": "ipython3",
   "version": "3.10.12"
  }
 },
 "nbformat": 4,
 "nbformat_minor": 5
}
